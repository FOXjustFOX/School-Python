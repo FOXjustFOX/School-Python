{
 "cells": [
  {
   "cell_type": "code",
   "execution_count": 6,
   "metadata": {},
   "outputs": [
    {
     "name": "stdout",
     "output_type": "stream",
     "text": [
      "{'a': 2, 'b': 2}\n",
      "{'b': 2, 'a': 2}\n",
      "CPU times: user 91 µs, sys: 18 µs, total: 109 µs\n",
      "Wall time: 89.6 µs\n"
     ]
    }
   ],
   "source": [
    "%%time\n",
    "\n",
    "def char_frequency(word):\n",
    "    frequency  = {}\n",
    "    for char in word:\n",
    "        #if character  is in frequency then increment the value\n",
    "        if char in frequency:\n",
    "            frequency[char] += 1\n",
    "        #else add character and set it to 1\n",
    "        else:\n",
    "            frequency[char] = 1\n",
    "    return (frequency)\n",
    "\n",
    "print(char_frequency('abba'))\n",
    "print(char_frequency('baab'))\n",
    "\n",
    "\n"
   ]
  },
  {
   "cell_type": "code",
   "execution_count": 11,
   "metadata": {},
   "outputs": [
    {
     "name": "stdout",
     "output_type": "stream",
     "text": [
      "aabbaa baaaab baaaba\n",
      "abbaba bbaaab ababab\n",
      "stsss\n",
      "tsttt stttt\n",
      "ttttt\n",
      "CPU times: user 151 µs, sys: 11 µs, total: 162 µs\n",
      "Wall time: 139 µs\n"
     ]
    }
   ],
   "source": [
    "%%time\n",
    "l = int(input())\n",
    "\n",
    "w = []#['abbaba', 'bbaaab', 'aabbaa', 'baaaab', 'ababab', 'baaaba', 'tsttt', 'ttttt', 'stsss', 'stttt']\n",
    "\n",
    "for i in range(l):\n",
    "    word = input()\n",
    "    w.append(word)\n",
    "\n",
    "w.sort(key=len)\n",
    "\n",
    "def divideList(lst):\n",
    "    dct = {}\n",
    "\n",
    "    for element in lst:\n",
    "        if len(element) not in dct:\n",
    "            dct[len(element)] = [element]\n",
    "        elif len(element) in dct:\n",
    "            dct[len(element)] += [element]\n",
    "    \n",
    "    return sorted(dct.values())\n",
    "\n",
    "\n",
    "def char_frequency(w1,w2):\n",
    "\n",
    "    if ''.join(sorted(w1)) == ''.join(sorted(w2)):\n",
    "        return True\n",
    "\n",
    "\n",
    "w = divideList(w)\n",
    "\n",
    "\n",
    "yes = {\n",
    "\n",
    "}\n",
    "\n",
    "\n",
    "s = 1\n",
    "\n",
    "\n",
    "for i in w:\n",
    "    if len(i) > 1:\n",
    "        for j in i:\n",
    "            s = 0\n",
    "            while True:\n",
    "                if len(j)+s in yes:\n",
    "                    if yes[len(j)+s][0] == j:\n",
    "                        break\n",
    "                    if char_frequency((yes[len(j) + s])[0], j):\n",
    "                        yes[len(j)+s].append(j)\n",
    "                        break\n",
    "                        \n",
    "                    else:\n",
    "                        s+=1\n",
    "                        \n",
    "                else:\n",
    "                    yes[len(j)+s] = [j]\n",
    "                    break\n",
    "                    \n",
    "\n",
    "    else:\n",
    "        yes[len(i[0])] = [i[0]]\n",
    "\n",
    "for v in sorted(yes.values()):\n",
    "    print(*v)\n",
    "    \n"
   ]
  },
  {
   "cell_type": "code",
   "execution_count": 14,
   "metadata": {},
   "outputs": [],
   "source": [
    "L=[]\n",
    "for i in range(2):\n",
    "    L.append(char for char in input())\n",
    "\n",
    "print(L)"
   ]
  }
 ],
 "metadata": {
  "kernelspec": {
   "display_name": "Python 3",
   "language": "python",
   "name": "python3"
  },
  "language_info": {
   "codemirror_mode": {
    "name": "ipython",
    "version": 3
   },
   "file_extension": ".py",
   "mimetype": "text/x-python",
   "name": "python",
   "nbconvert_exporter": "python",
   "pygments_lexer": "ipython3",
   "version": "3.8.13"
  },
  "orig_nbformat": 4,
  "vscode": {
   "interpreter": {
    "hash": "9ac03a0a6051494cc606d484d27d20fce22fb7b4d169f583271e11d5ba46a56e"
   }
  }
 },
 "nbformat": 4,
 "nbformat_minor": 2
}
